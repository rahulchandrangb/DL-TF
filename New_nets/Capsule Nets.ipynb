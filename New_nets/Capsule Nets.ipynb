{
 "cells": [
  {
   "cell_type": "markdown",
   "metadata": {},
   "source": [
    "<h2>Capsule Nets over MNIST... </h2>\n",
    "<h4> This is a tensorflow implementation of the paper \"Dynamic routing between capsules\" by Sara Sabour, Nicholas Frosst, and Geoffrey Hinton </h4>"
   ]
  },
  {
   "cell_type": "code",
   "execution_count": 40,
   "metadata": {
    "collapsed": true
   },
   "outputs": [],
   "source": [
    "%matplotlib inline\n",
    "import tensorflow as tf\n",
    "import numpy as np\n",
    "from __future__ import division, print_function, unicode_literals\n",
    "\n",
    "import matplotlib\n",
    "import matplotlib.pyplot as plt\n"
   ]
  },
  {
   "cell_type": "code",
   "execution_count": 33,
   "metadata": {
    "collapsed": true
   },
   "outputs": [],
   "source": [
    "tf.reset_default_graph()"
   ]
  },
  {
   "cell_type": "code",
   "execution_count": 28,
   "metadata": {
    "collapsed": true
   },
   "outputs": [],
   "source": [
    "np.random.seed(42)\n",
    "tf.set_random_seed(42)"
   ]
  },
  {
   "cell_type": "code",
   "execution_count": 29,
   "metadata": {},
   "outputs": [
    {
     "name": "stdout",
     "output_type": "stream",
     "text": [
      "Extracting ../datasets_lib/mnist/train-images-idx3-ubyte.gz\n",
      "Extracting ../datasets_lib/mnist/train-labels-idx1-ubyte.gz\n",
      "Extracting ../datasets_lib/mnist/t10k-images-idx3-ubyte.gz\n",
      "Extracting ../datasets_lib/mnist/t10k-labels-idx1-ubyte.gz\n"
     ]
    }
   ],
   "source": [
    "from tensorflow.examples.tutorials.mnist  import input_data\n",
    "mnist = input_data.read_data_sets(\"../datasets_lib/mnist/\")"
   ]
  },
  {
   "cell_type": "code",
   "execution_count": 30,
   "metadata": {},
   "outputs": [
    {
     "data": {
      "image/png": "[encoded data removed]",
      "text/plain": [
       "<matplotlib.figure.Figure at 0x12cd53690>"
      ]
     },
     "metadata": {},
     "output_type": "display_data"
    },
    {
     "name": "stdout",
     "output_type": "stream",
     "text": [
      "Nd here goes the labels...\n",
      "[7 4 3 2 2 4 9 1 0 5]\n"
     ]
    }
   ],
   "source": [
    "n_samples = 10\n",
    "start_idx = 100\n",
    "plt.figure(figsize=(n_samples* 2,3))\n",
    "for index_i in range(n_samples):\n",
    "    plt.subplot(2,n_samples/2,index_i+1)\n",
    "    sample_img = mnist.train.images[start_idx+index_i].reshape(28,28)\n",
    "    plt.imshow(sample_img,cmap='binary')\n",
    "    #plt.axis(\"off\")\n",
    "plt.show()\n",
    "print( \"Nd here goes the labels...\")\n",
    "print (mnist.train.labels[start_idx:start_idx+n_samples])"
   ]
  },
  {
   "cell_type": "code",
   "execution_count": 37,
   "metadata": {
    "collapsed": true
   },
   "outputs": [],
   "source": [
    "tf.reset_default_graph()"
   ]
  },
  {
   "cell_type": "markdown",
   "metadata": {},
   "source": [
    "<h3> <bold> <u>Capsnet flow from input to Loss (Diagram) </bold></h3></u><br>\n",
    "\n",
    "```\n",
    "                            Loss\n",
    "                              ↑\n",
    "                    ┌─────────┴─────────┐\n",
    "      Labels → Margin Loss      Reconstruction Loss\n",
    "                    ↑                   ↑\n",
    "                  Length             Decoder\n",
    "                    ↑                   ↑ \n",
    "             Digit Capsules ────Mask────┘\n",
    "               ↖↑↗ ↖↑↗ ↖↑↗\n",
    "             Primary Capsules\n",
    "                    ↑      \n",
    "               Input Images\n",
    "```"
   ]
  },
  {
   "cell_type": "markdown",
   "metadata": {},
   "source": [
    "<h2> Let's now build from bottom up ..one by one </h2>\n",
    "<h3> 1. Input Images: </h3>"
   ]
  },
  {
   "cell_type": "code",
   "execution_count": 38,
   "metadata": {
    "collapsed": true
   },
   "outputs": [],
   "source": [
    "X = tf.placeholder(shape=[None,28,28,1],dtype=tf.float32,name=\"X\")"
   ]
  },
  {
   "cell_type": "markdown",
   "metadata": {},
   "source": [
    "<h3>2. Primary Capsule </h3>\n",
    "<p> <b> &nbsp; 2.1</b> : The first layer is composed of 32 maps of 6 x 6 capsules each. Each capsule will output an 8D vector.</p>"
   ]
  },
  {
   "cell_type": "code",
   "execution_count": 41,
   "metadata": {},
   "outputs": [
    {
     "name": "stdout",
     "output_type": "stream",
     "text": [
      "Primary Capsule Part Done..\n"
     ]
    }
   ],
   "source": [
    "# Let's set the primary capsule hyper params\n",
    "\n",
    "prim_caps1_num_maps = 32\n",
    "prim_caps_inp_dim = 6\n",
    "prim_caps1_num_caps = prim_caps1_num_maps * prim_caps_inp_dim * prim_caps_inp_dim # 32 x 6 x 6 = 1152 primary capsules total\n",
    "prim_caps_out_dim = 8\n",
    "\n",
    "# Apply first 2 normal conv layers\n",
    "\n",
    "conv1_params = {\n",
    "    \"filters\":256,\n",
    "    \"kernel_size\": 9,\n",
    "    \"strides\": 1,\n",
    "    \"padding\":\"valid\", # no padding\n",
    "    \"activation\" : tf.nn.relu,\n",
    "}\n",
    "\n",
    "conv2_params = {\n",
    "    \"filters\": prim_caps1_num_maps * prim_caps_out_dim, # 32 x 8 = 256 \n",
    "    \"kernel_size\": 9,\n",
    "    \"strides\": 2,\n",
    "    \"padding\":\"valid\", #no paddding\n",
    "    \"activation\":tf.nn.relu\n",
    "}\n",
    "\n",
    "\n",
    "conv1 = tf.layers.conv2d(X,name='conv1',**conv1_params)\n",
    "conv2 = tf.layers.conv2d(conv1,name='conv2',**conv2_params)\n",
    "\n",
    "\"\"\"\n",
    "===============================================================\n",
    "A short note on how we are reaching final feature map of 6x6:\n",
    "===============================================================\n",
    "1. We use a kernel of size 9  with no padding. \n",
    "    * So after conv1, the image size reduced by 9-1=8 pixels [top,bottom,left,right]\n",
    "        ie. 28 x 28 ==> 20 x 20\n",
    "2. Now goes conv2, \n",
    "    * The output size again reduced by 9-1=8 pixels. On the top of that, given stride '2' , the image again \n",
    "      gets divided by half\n",
    "        ie. 20 x 20 ==> 12 x 12  ==> 6 x 6\n",
    "    \n",
    "\"\"\"\n",
    "\n",
    "\n",
    "\n",
    "#  So at this point , we are clear about how to generate 32 maps of 6 x 6 features,\n",
    "# Now we have to map it to a bunch of 8D output vectors, which represents the outputs of primary capsules.\n",
    "\n",
    "\"\"\"\n",
    "=================================================\n",
    "Explanation on primary capsule output dimension:\n",
    "=================================================\n",
    "\n",
    "1. The output of conv2 is an array containing 256 ( <== 32 x 8 )  feature maps for each instance. The dimension of \n",
    "    each feature map is 6 x 6. ie , the output is [batch_size,6,6,256] \n",
    "\n",
    "2.  Now we have to map this to 32 vectors of 8-D . \n",
    "    ie. reshape [batch_size,6,6,256] => [batch_size,6,6,32,8]\n",
    "\n",
    "3. But the first capsule layer is fully connected layer, we can flatten the 6 x 6 grid\n",
    "    ie. reshape to [batch_size,6x6x32, 8]\n",
    "\n",
    "\n",
    "\"\"\"\n",
    "\n",
    "\n",
    "caps1_raw = tf.reshape(conv2,[-1,prim_caps1_num_caps,prim_caps_out_dim],name='caps1_row')\n",
    "\n",
    "\n",
    "\"\"\"\n",
    "================\n",
    "Squash function:\n",
    "================\n",
    "                ||s||^2             s\n",
    "squash(s)  = ---------------  * ----------\n",
    "                1+ ||s||^2        ||s||\n",
    "                \n",
    "\n",
    "1. This function is used to scale the output values between 0 and 1\n",
    "2. We don't use tf.norm() because of divide by zero problem, ending in NaN a lot.\n",
    "3. The squash() function will squash all vectors in the given array, along the given axis (by default, the last axis).\n",
    "\n",
    "\"\"\"\n",
    "def squash(s,axis=-1,epsilon=1e-7,name=None):\n",
    "    with tf.name_scope(name, default_name='squash'):\n",
    "        squared_norm = tf.reduce_sum(tf.square(s),axis=axis,keep_dims=True)\n",
    "        safe_norm = tf.sqrt(squared_norm+epsilon)\n",
    "        squash_factor = squared_norm/(1.0 + squared_norm)\n",
    "        unit_vec = s / safe_norm\n",
    "        return squash_factor * unit_vec\n",
    "    \n",
    "\n",
    "        \n",
    "\n",
    "#Now apply squash on the capsules output calculated\n",
    "caps1_output = squash(caps1_raw,name=\"caps1_output\")\n",
    "\n",
    "print (\"Primary Capsule Part Done..\")"
   ]
  },
  {
   "cell_type": "code",
   "execution_count": null,
   "metadata": {
    "collapsed": true
   },
   "outputs": [],
   "source": []
  }
 ],
 "metadata": {
  "kernelspec": {
   "display_name": "Python 2",
   "language": "python",
   "name": "python2"
  },
  "language_info": {
   "codemirror_mode": {
    "name": "ipython",
    "version": 2
   },
   "file_extension": ".py",
   "mimetype": "text/x-python",
   "name": "python",
   "nbconvert_exporter": "python",
   "pygments_lexer": "ipython2",
   "version": "2.7.10"
  }
 },
 "nbformat": 4,
 "nbformat_minor": 2
}
