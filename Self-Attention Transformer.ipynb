{
 "cells": [
  {
   "cell_type": "code",
   "execution_count": 2,
   "metadata": {},
   "outputs": [],
   "source": [
    "import tensorflow as tf\n",
    "import numpy as np"
   ]
  },
  {
   "cell_type": "code",
   "execution_count": 3,
   "metadata": {},
   "outputs": [],
   "source": [
    "# misc utils:\n",
    "\n",
    "#1. tokenize using google sentence-piece split vocab \n",
    "\n",
    "\n",
    "def load_vocab(vocab_fpath):\n",
    "    vocab = [line.split()[0] for line in open(vocab_fpath,'r').read().splitlines()]\n",
    "    token2idx = {token:idx for idx,token in  enumerate(vocab)}\n",
    "    idx2token = {idx:token for idx,token in enumerate(vocab)}\n",
    "    return token2idx,idx2token\n",
    "\n",
    "# load length controlled sentences\n",
    "\n",
    "def load_data(fpath1,fpath2,maxlen1,maxlen2):\n",
    "    sents1,sents2 = [],[]\n",
    "    with open(fpath1,'r') as f1, open(fpath2,'r') as f2:\n",
    "        for sent1,sent2 in zip(f1,f2):\n",
    "            if len(sent1.split())+1 > maxlen1:\n",
    "                continue\n",
    "            if eln(sent2.split())+1 > maxlen2:\n",
    "                continue\n",
    "            sents1.append(sent1.strip())\n",
    "            sents2.append(sent2.strip())\n",
    "    return sents1,sents2\n",
    "\n",
    "\n"
   ]
  },
  {
   "cell_type": "code",
   "execution_count": null,
   "metadata": {},
   "outputs": [],
   "source": [
    "# Now coding the batching and iterator functions\n",
    "\n",
    "def sent2num_encode(inp_sent,type_inp,t2idx_dict):\n",
    "    inp_str = inp_sent.decode(\"utf-8\")\n",
    "    if type_inp == \"x\":\n",
    "        tokens = inp_str.split() + [\"</s>\"]\n",
    "    else:\n",
    "        tokens= [\"<s>\"] inp_str.split() + [\"</s>\"]\n",
    "        \n",
    "    enc_list = [t2idx_dict.get(t,t2idx_dict[\"<unk>\"]) for t in tokens]\n",
    "    return enc_list\n",
    "\n",
    "\n",
    "def gen_fn(sents1,sents2,vocab_fpath):\n",
    "    token2idx, _ = load_vocab(vocab_fpath) \n",
    "    #Now the generator part using yield\n",
    "    for sent1,sent2 in zip(sents1,sents2):\n",
    "        x = sent2num_encode(sents1,\"x\",token2idx)\n",
    "        y = sent2num_encode(sents2,\"y\",token2idx)\n",
    "        \n",
    "        decoder_inp,y = y[:-1], y[1:]\n",
    "        x_seq_len, y_seq_len =  len(x),len(y)\n",
    "        yield (x,x_seq_len,sent1) , (decoder_inp,y,y_seq_len,sent2)\n",
    "\n",
    "\n",
    "def data_feed_fn(sents1,sents2,vocab_fpath,batch_size,shuffle=False):\n",
    "    # xs = (x[int32] , x_seq_len[int32], sents1[string])\n",
    "    # ys = (decoder_inp[int32], y[int32], y_seq_len[int32], sents2[string])\n",
    "    shapes=(([None],(), ()),([None],[None],(),()))  # represents xs, ys\n",
    "    \n",
    "    types = (\n",
    "    (tf.int32,tf.int32,tf.string),\n",
    "    (tf.int32,tf.int32,tf.int32,tf.string)\n",
    "    )\n",
    "    \n",
    "    paddings = (\n",
    "    (0,0,''),\n",
    "    (0,0,0,'')\n",
    "    )\n",
    "    \n",
    "\n",
    "def get_batch(fpath1,fpath2,maxlen1,maxlen2,vocab_fpath,batch_size,shuffle=False):\n",
    "    sents1,sents2 = load_data(fpath1,fpath2,maxlen1,maxlen2)\n",
    "    \n"
   ]
  }
 ],
 "metadata": {
  "kernelspec": {
   "display_name": "Python 3",
   "language": "python",
   "name": "python3"
  },
  "language_info": {
   "codemirror_mode": {
    "name": "ipython",
    "version": 3
   },
   "file_extension": ".py",
   "mimetype": "text/x-python",
   "name": "python",
   "nbconvert_exporter": "python",
   "pygments_lexer": "ipython3",
   "version": "3.6.5"
  }
 },
 "nbformat": 4,
 "nbformat_minor": 2
}
