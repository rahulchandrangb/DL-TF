{
 "cells": [
  {
   "cell_type": "code",
   "execution_count": 1,
   "metadata": {
    "collapsed": true
   },
   "outputs": [],
   "source": [
    "import tensorflow as tf\n",
    "import numpy as np"
   ]
  },
  {
   "cell_type": "code",
   "execution_count": 3,
   "metadata": {},
   "outputs": [],
   "source": [
    "tf.reset_default_graph()\n",
    "#1. Experimenting with the  while loop\n",
    "condition  = lambda i, _ : i< 10  # This is the conditoonal stateent that tells whether we should continue with the statement\n",
    "body = lambda i, jk : (i+1, (jk[0]+jk[1],jk[0]-jk[1])) # this is the body part that actually tells the computation that has to be perormed in the while loop\n",
    "ijk_0 = (0,(1,2)) #This is the initial set of values\n",
    "\n",
    "(i_final,jk_final) = tf.while_loop(cond=condition,body=body,loop_vars=ijk_0)\n",
    "with tf.Session() as sess:\n",
    "    x = sess.run([i_final,jk_final])\n",
    "print x"
   ]
  },
  {
   "cell_type": "code",
   "execution_count": 27,
   "metadata": {},
   "outputs": [
    {
     "name": "stdout",
     "output_type": "stream",
     "text": [
      "[[-0.39882767  0.91837859  0.17432871]\n",
      " [-0.73285705 -0.32578328  1.11920786]\n",
      " [ 0.03866017  0.09818452  0.08692422]]\n",
      "[-0.73285705 -0.32578328  1.11920786]\n",
      "[ 1.  2.  3.]\n"
     ]
    }
   ],
   "source": [
    "#2. Experimenting with tf.TensorArray\n",
    "tf.reset_default_graph()\n",
    "matrix = tf.get_variable(\"matrix\",[3,3],initializer=tf.random_normal_initializer)\n",
    "\n",
    "#Example Unpack + read\n",
    "\n",
    "matrix_rows = tf.shape(matrix)[0]\n",
    "ta = tf.TensorArray(tf.float32,size=matrix_rows)\n",
    "ta = ta.unstack(matrix)\n",
    "read_row = ta.read(1)\n",
    "\n",
    "\n",
    "#Exampe Write + pack\n",
    "\n",
    "ta = tf.TensorArray(tf.float32,size = matrix_rows)\n",
    "ta = ta.write(1,np.array([1.0,2.0,3.0],dtype=np.float32))\n",
    "read_row2 =  ta.read(1)\n",
    "\n",
    "\n",
    "with tf.Session() as sess:\n",
    "    sess.run(tf.initialize_all_variables())\n",
    "    mat,rr1,rr2 = sess.run([matrix,read_row,read_row2])\n",
    "    new_matrix = ta.stack()\n",
    "print mat\n",
    "print rr1\n",
    "print rr2"
   ]
  },
  {
   "cell_type": "code",
   "execution_count": null,
   "metadata": {
    "collapsed": true
   },
   "outputs": [],
   "source": []
  }
 ],
 "metadata": {
  "kernelspec": {
   "display_name": "Python 2",
   "language": "python",
   "name": "python2"
  },
  "language_info": {
   "codemirror_mode": {
    "name": "ipython",
    "version": 2
   },
   "file_extension": ".py",
   "mimetype": "text/x-python",
   "name": "python",
   "nbconvert_exporter": "python",
   "pygments_lexer": "ipython2",
   "version": "2.7.10"
  }
 },
 "nbformat": 4,
 "nbformat_minor": 2
}
